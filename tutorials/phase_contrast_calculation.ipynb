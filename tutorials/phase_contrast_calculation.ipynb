{
 "cells": [
  {
   "cell_type": "markdown",
   "metadata": {},
   "source": [
    "# Phase Contrast (PC) calculation tutorial"
   ]
  },
  {
   "cell_type": "markdown",
   "metadata": {},
   "source": [
    "Start by importing the required libraries and defining some settings:"
   ]
  },
  {
   "cell_type": "code",
   "execution_count": null,
   "metadata": {},
   "outputs": [],
   "source": [
    "import os\n",
    "import numpy as np\n",
    "import matplotlib.pyplot as plt\n",
    "\n",
    "from ukat.data import fetch\n",
    "from ukat.mapping.phase_contrast import PhaseContrast\n",
    "\n",
    "# Ensure figures are rendered in the notebook\n",
    "%matplotlib inline"
   ]
  },
  {
   "cell_type": "markdown",
   "metadata": {},
   "source": [
    "Tell python where to store the Velocity NIfTI file we will generate. We will store it in a directory called `phase_calculation_output` in the `tutorials` directory."
   ]
  },
  {
   "cell_type": "code",
   "execution_count": null,
   "metadata": {},
   "outputs": [],
   "source": [
    "# Initialise output path for B0 maps\n",
    "directory = 'phase_calculation_output'\n",
    "os.makedirs(directory, exist_ok=True)\n",
    "OUTPUT_DIR = os.path.join(os.getcwd(), directory)"
   ]
  },
  {
   "cell_type": "markdown",
   "metadata": {},
   "source": [
    "Retrieve PC test data using our data fetcher. The first time the fetcher is run, it will download the data from the\n",
    "internet, after that it will just use the cached local data.\n",
    "\n",
    "This will return 5 variables:\n",
    "* `magnitude`: a 3D array with the magnitude data at all cardiac cycles.\n",
    "* `phase`: a 3D array with the phase data at all cardiac cycles.\n",
    "* `affine`: the affine matrix for the data (needed to later write a new NIfTI file).\n",
    "* `mask`: a 3D boolean matrix with the pixels to fit/calculate.\n",
    "* `velocity_encoding`: returns a float values of the velocity encoding in cm/s"
   ]
  },
  {
   "cell_type": "code",
   "execution_count": null,
   "metadata": {},
   "outputs": [],
   "source": [
    "# Fetch test data\n",
    "magnitude, phase, mask, affine, velocity_encoding = fetch.phase_contrast_left_philips()"
   ]
  },
  {
   "cell_type": "markdown",
   "metadata": {},
   "source": [
    "Calculate velocity and flow (RBF) parameters using the `PhaseContrast` class implemented in `mapping`:"
   ]
  },
  {
   "cell_type": "code",
   "execution_count": null,
   "metadata": {},
   "outputs": [],
   "source": [
    "# Initialise PC mapping object\n",
    "mapper = PhaseContrast(phase, velocity_encoding, affine, mask=mask)\n",
    "\n",
    "vel_array = mapper.velocity_array\n",
    "velocity_plot = mapper.mean_velocity_cardiac_cycle\n",
    "rbf_plot = mapper.RBF\n",
    "\n",
    "print(\"Mean Velocity: \" + str(mapper.mean_velocity))\n",
    "print(\"Mean RBF: \" + str(mapper.mean_RBF))\n",
    "\n",
    "# Save output maps to Nifti\n",
    "mapper.to_nifti(output_directory=OUTPUT_DIR, base_file_name='Philips_Left')"
   ]
  },
  {
   "cell_type": "markdown",
   "metadata": {},
   "source": [
    "Plot the **velocity** and the **RBF** per cardiac cycle."
   ]
  },
  {
   "cell_type": "code",
   "execution_count": null,
   "metadata": {},
   "outputs": [],
   "source": [
    "import matplotlib.pyplot as plt\n",
    "fig, (ax1, ax2) = plt.subplots(2, 1, figsize=(10, 10))\n",
    "\n",
    "# Velocity\n",
    "ax1.plot(velocity_plot, 'ro-')\n",
    "ax1.set_ylabel('Velocity (cm/sec)')\n",
    "ax1.set_xlabel('Cardiac Cycle')\n",
    "ax1.set_title('Average Velocity Left Renal Artery')\n",
    "\n",
    "# RBF\n",
    "ax2.plot(rbf_plot, 'b-')\n",
    "ax2.set_ylabel('RBF (ml/min)')\n",
    "ax2.set_xlabel('Cardiac Cycle')\n",
    "ax2.set_title('Average Renal Blood Flow Left Renal Artery')\n",
    "\n",
    "plt.show()"
   ]
  }
 ],
 "metadata": {
  "interpreter": {
   "hash": "bb976374e6918fba8917acb01d130916b86fd8216abc3a4c1388884e12630d00"
  },
  "kernelspec": {
   "display_name": "Python 3.7.9 64-bit",
   "name": "python3"
  },
  "language_info": {
   "codemirror_mode": {
    "name": "ipython",
    "version": 3
   },
   "file_extension": ".py",
   "mimetype": "text/x-python",
   "name": "python",
   "nbconvert_exporter": "python",
   "pygments_lexer": "ipython3",
   "version": "3.7.9"
  }
 },
 "nbformat": 4,
 "nbformat_minor": 4
}
