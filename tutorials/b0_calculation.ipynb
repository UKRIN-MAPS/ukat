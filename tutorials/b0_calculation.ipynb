{
 "cells": [
  {
   "cell_type": "markdown",
   "metadata": {},
   "source": [
    "# B0 map calculation tutorial"
   ]
  },
  {
   "cell_type": "markdown",
   "metadata": {},
   "source": [
    "Start by importing the required libraries and defining some settings:"
   ]
  },
  {
   "cell_type": "code",
   "execution_count": null,
   "metadata": {},
   "outputs": [],
   "source": [
    "import os\n",
    "import nibabel as nib\n",
    "import numpy as np\n",
    "import matplotlib.pyplot as plt\n",
    "import warnings\n",
    "\n",
    "from ukat.data import fetch\n",
    "from ukat.mapping.b0 import B0\n",
    "\n",
    "# Ensure figures are rendered in the notebook\n",
    "%matplotlib inline"
   ]
  },
  {
   "cell_type": "markdown",
   "metadata": {},
   "source": [
    "Tell python where to store the B0 map NIfTI file we will generate. We will store it in a directory called `b0_calculation_output` in the `tutorials` directory."
   ]
  },
  {
   "cell_type": "code",
   "execution_count": null,
   "metadata": {},
   "outputs": [],
   "source": [
    "# Initialise output path for B0 maps\n",
    "OUTPUT_DIR = os.path.join(os.getcwd(), \"b0_calculation_output\")\n",
    "OUTPUT_PATH = os.path.join(OUTPUT_DIR, 'B0Map.nii.gz')"
   ]
  },
  {
   "cell_type": "markdown",
   "metadata": {},
   "source": [
    "Retrieve B0 test data using our data fetcher.\n",
    "This will return 4 variables:\n",
    "* `magnitude`: a 4D array with the magnitude data at all echo times.\n",
    "* `phase`: a 4D array with the phase data at all echo times.\n",
    "* `affine`: the affine matrix for the data (needed to later write a new NIfTI file).\n",
    "* `te`: an array containing the echo times, in seconds."
   ]
  },
  {
   "cell_type": "code",
   "execution_count": null,
   "metadata": {},
   "outputs": [],
   "source": [
    "# Fetch test data\n",
    "magnitude, phase, affine, te = fetch.b0_philips(2)\n",
    "te = te * 1000  # convert TEs to ms"
   ]
  },
  {
   "cell_type": "markdown",
   "metadata": {},
   "source": [
    "Compute the B0 map using the `B0` class implemented in `mapping`:"
   ]
  },
  {
   "cell_type": "code",
   "execution_count": null,
   "metadata": {},
   "outputs": [],
   "source": [
    "# Initialise B0 mapping object\n",
    "mapper_B0 = B0(phase, te, unwrap=True)\n",
    "\n",
    "first_echo = mapper_B0.phase0\n",
    "second_echo = mapper_B0.phase1\n",
    "difference_echos = mapper_B0.phase_difference\n",
    "b0map = mapper_B0.b0_map"
   ]
  },
  {
   "cell_type": "markdown",
   "metadata": {},
   "source": [
    "Display a central slice of the images. Note the units are rads and rad/s for the B0Map."
   ]
  },
  {
   "cell_type": "code",
   "execution_count": null,
   "metadata": {},
   "outputs": [],
   "source": [
    "fig, (ax1, ax2, ax3, ax4) = plt.subplots(1, 4, figsize=(20, 4))\n",
    "\n",
    "# Display a central slice of Phase Echo 1\n",
    "im = ax1.imshow(np.rot90(first_echo[:, :, 4]), cmap='hot', clim=(-10, 10))\n",
    "cb = fig.colorbar(im, ax=ax1)\n",
    "cb.set_label('$Phase_0*$ (rad)')\n",
    "ax1.axis('off')\n",
    "\n",
    "# Display a central slice of Phase Echo 2\n",
    "im = ax2.imshow(np.rot90(second_echo[:, :, 4]), cmap='hot', clim=(-10, 10))\n",
    "cb = fig.colorbar(im, ax=ax2)\n",
    "cb.set_label('$Phase_1$ (rad)')\n",
    "ax2.axis('off')\n",
    "\n",
    "# Display the difference between the two Phase Echoes\n",
    "im = ax3.imshow(np.rot90(difference_echos[:, :, 4]), cmap='bwr', clim=(-10, 10))\n",
    "cb = fig.colorbar(im, ax=ax3)\n",
    "cb.set_label('$Phase Difference$ (rad)')\n",
    "ax3.axis('off')\n",
    "\n",
    "# Display the resulting B0 Map\n",
    "im = ax4.imshow(np.rot90(b0map[:, :, 4]), cmap='hot', clim=(-1000, 1000))\n",
    "cb = fig.colorbar(im, ax=ax4)\n",
    "cb.set_label('$B_0$ (Hz)')\n",
    "ax4.axis('off')\n",
    "\n",
    "plt.show()"
   ]
  }
 ],
 "metadata": {
  "kernelspec": {
   "display_name": "Python 3",
   "language": "python",
   "name": "python3"
  },
  "language_info": {
   "codemirror_mode": {
    "name": "ipython",
    "version": 3
   },
   "file_extension": ".py",
   "mimetype": "text/x-python",
   "name": "python",
   "nbconvert_exporter": "python",
   "pygments_lexer": "ipython3",
   "version": "3.7.9"
  }
 },
 "nbformat": 4,
 "nbformat_minor": 4
}